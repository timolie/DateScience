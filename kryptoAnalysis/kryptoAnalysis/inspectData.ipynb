{
 "cells": [
  {
   "cell_type": "markdown",
   "id": "3478e0bc",
   "metadata": {
    "pycharm": {
     "name": "#%% md\n"
    }
   },
   "source": [
    "## Import modules"
   ]
  },
  {
   "cell_type": "code",
   "execution_count": null,
   "id": "1da984ed",
   "metadata": {
    "pycharm": {
     "name": "#%%\n"
    }
   },
   "outputs": [],
   "source": [
    "import pandas as pd\n",
    "from datetime import datetime\n",
    "import numpy as np"
   ]
  },
  {
   "cell_type": "markdown",
   "id": "7bf021d1",
   "metadata": {
    "pycharm": {
     "name": "#%% md\n"
    }
   },
   "source": [
    "## Read all files"
   ]
  },
  {
   "cell_type": "code",
   "execution_count": null,
   "id": "c25c3435",
   "metadata": {
    "pycharm": {
     "name": "#%%\n"
    }
   },
   "outputs": [],
   "source": [
    "\"\"\"\n",
    "btcFiles =  [\n",
    "            \"normal-old\",\n",
    "            #\"normal-new\",\n",
    "            \"heikin-old\",\n",
    "            #\"heikin-new\",\n",
    "            \"onchain-old\",\n",
    "            #\"onchain-new\"\n",
    "            ]\n",
    "\"\"\"\n",
    "restFiles = [\n",
    "            \"NASDAQ_DLY NDX, 1D\",\n",
    "            \"OANDA XAUUSD, 1D\", \n",
    "            \"SP SPX, 1D\", \n",
    "            \"TVC DXY, 1D\"\n",
    "            ]\n",
    "ethFiles =  [\n",
    "            \"BITSTAMP ETHUSD, 1D\",\n",
    "            #\"BITSTAMP ETHUSD, 1D-otheronchain-data\"\n",
    "            ]"
   ]
  },
  {
   "cell_type": "markdown",
   "id": "124ed375",
   "metadata": {
    "pycharm": {
     "name": "#%% md\n"
    }
   },
   "source": [
    "### create dataframe for each file \n",
    "\n",
    "pack all dataframes belonging to one topic in one list"
   ]
  },
  {
   "cell_type": "code",
   "execution_count": null,
   "id": "6bf74445",
   "metadata": {
    "pycharm": {
     "name": "#%%\n"
    }
   },
   "outputs": [],
   "source": [
    "#btcData = [pd.read_csv(\"daten/btc/\"+filename+\".csv\") for filename in btcFiles]\n",
    "btcData = [pd.read_csv(\"btcAllData-inclusiveDate-inclusiveHalving.csv\")]\n",
    "ethData = [pd.read_csv(\"daten/eth/\"+filename+\".csv\") for filename in ethFiles]\n",
    "restData = [pd.read_csv(\"daten/rest/\"+filename+\".csv\") for filename in restFiles]"
   ]
  },
  {
   "cell_type": "markdown",
   "id": "27702ed7",
   "metadata": {
    "pycharm": {
     "name": "#%% md\n"
    }
   },
   "source": [
    "### get overview over Dataframes of each file"
   ]
  },
  {
   "cell_type": "code",
   "execution_count": null,
   "id": "5323cd96",
   "metadata": {
    "pycharm": {
     "name": "#%%\n"
    }
   },
   "outputs": [],
   "source": [
    "[print(data.info()) for data in btcData]"
   ]
  },
  {
   "cell_type": "code",
   "execution_count": null,
   "id": "119ebf46",
   "metadata": {
    "pycharm": {
     "name": "#%%\n"
    }
   },
   "outputs": [],
   "source": [
    "[print(data.info()) for data in ethData]"
   ]
  },
  {
   "cell_type": "code",
   "execution_count": null,
   "id": "840a7092",
   "metadata": {
    "pycharm": {
     "name": "#%%\n"
    }
   },
   "outputs": [],
   "source": [
    "[print(data.info()) for data in restData]"
   ]
  },
  {
   "cell_type": "markdown",
   "id": "7029b94d",
   "metadata": {
    "pycharm": {
     "name": "#%% md\n"
    }
   },
   "source": [
    "### check time ranges of all data"
   ]
  },
  {
   "cell_type": "markdown",
   "id": "ed540d20",
   "metadata": {
    "pycharm": {
     "name": "#%% md\n"
    }
   },
   "source": [
    "- btc data\n",
    "    - starts at 2011-08-18\n",
    "    - ends at 2022-06-12\n",
    "- rest data\n",
    "    - starts earlier\n",
    "    - ends on 01.06.22\n",
    "- eth data\n",
    "    - starts at 2015-08-07\n",
    "    - end at 2022-06-12\n",
    "    \n",
    "$\\Rightarrow $ \n",
    "\n",
    "start: earliest entry of bitcoin\n",
    "\n",
    "end: 01.06.2022\n",
    "\n",
    "be careful with etherum data because of later start"
   ]
  },
  {
   "cell_type": "code",
   "execution_count": null,
   "id": "8fcf4148",
   "metadata": {
    "pycharm": {
     "name": "#%%\n"
    }
   },
   "outputs": [],
   "source": [
    "data = [*btcData, *restData, *ethData]\n",
    "for df in data:\n",
    "    print(datetime.fromtimestamp(df['time'].iloc[0]), datetime.fromtimestamp(df['time'].iloc[-1]))"
   ]
  },
  {
   "cell_type": "markdown",
   "id": "7e1b9aaa",
   "metadata": {
    "pycharm": {
     "name": "#%% md\n"
    }
   },
   "source": [
    "#### look for missing entries"
   ]
  },
  {
   "cell_type": "markdown",
   "id": "3511d72f",
   "metadata": {
    "pycharm": {
     "name": "#%% md\n"
    }
   },
   "source": [
    "- btc Data \n",
    "    - only 3 days left \n",
    "    - just interpolate via linear regression\n",
    " \n",
    "- eth data\n",
    "    - all perfect\n",
    "    \n",
    "- rest data \n",
    "    - seems like it is downloaded on wrong time series (too long intervals)"
   ]
  },
  {
   "cell_type": "code",
   "execution_count": null,
   "id": "18e33d81",
   "metadata": {
    "pycharm": {
     "name": "#%%\n"
    }
   },
   "outputs": [],
   "source": [
    "def checkMissingData(df, stepwidth=24*60*60, leaveFirstn=200):\n",
    "    startDate = df['time'].iloc[leaveFirstn]\n",
    "    endDate = df['time'].iloc[-1]\n",
    "    numberSteps = len(df.index)- leaveFirstn -1\n",
    "    expectedNumberSteps = (endDate-startDate)/ (stepwidth)\n",
    "    print(\"neues dataframe\", \"\\n\",\n",
    "          \"start \",datetime.fromtimestamp(startDate), startDate, \"\\n\",\n",
    "          \"end   \", datetime.fromtimestamp(endDate), endDate,\"\\n\",\n",
    "          \"is \", numberSteps,\"should \", expectedNumberSteps, \"\\n\",\n",
    "          \"number missing\" , expectedNumberSteps - numberSteps,\n",
    "          \"\\n -------------------------------------------------------------\")\n",
    "    startMissingIndice= []; rangeMissingIndice= []\n",
    "    for j in range(leaveFirstn, numberSteps-1):\n",
    "        timestamp = df['time'][j+1]\n",
    "        ascendantTimestamp = df['time'][j]\n",
    "        if (timestamp - ascendantTimestamp) != stepwidth:\n",
    "            numberMissing = (timestamp - ascendantTimestamp) / stepwidth - 1\n",
    "            print(j, numberMissing,\n",
    "                  datetime.fromtimestamp(ascendantTimestamp), datetime.fromtimestamp(timestamp))\n",
    "            startMissingIndice.append(j); rangeMissingIndice.append(numberMissing)\n",
    "    print(\"xxxxxxxxxxxxxxxxxxxxxxxxxxxxxxxxxxxxxxxxxxxxxxxxxxxxxxxxxxxxxxxxxxxxxxxxxxx\")\n",
    "    return startMissingIndice, rangeMissingIndice"
   ]
  },
  {
   "cell_type": "code",
   "execution_count": null,
   "id": "9c030c89",
   "metadata": {
    "pycharm": {
     "name": "#%%\n"
    }
   },
   "outputs": [],
   "source": [
    "for df in btcData:\n",
    "    checkMissingData(df)"
   ]
  },
  {
   "cell_type": "markdown",
   "id": "1c0ee03e",
   "metadata": {
    "pycharm": {
     "name": "#%% md\n"
    }
   },
   "source": [
    "## Observation \n",
    "\n",
    "- 3 days missing in data at 2015-01-09 \n",
    "[Reason is a Hack](https://venturebeat.com/2015/01/09/bitstamp-resumes-trading-after-5m-in-losses-led-to-shutdown/)\n",
    "\n",
    "- more values missing in old data but only in the first 200 days of bitcoin (we do not look at those)-  \n",
    "\n",
    "- old data is on daily timeframe and goes from (2011, 8, 18, 2, 0) to (2022, 6, 12, 2, 0) but the first 200 days are left out because of missing ema, sma, ...\n"
   ]
  },
  {
   "cell_type": "markdown",
   "id": "db963f05",
   "metadata": {
    "pycharm": {
     "name": "#%% md\n"
    }
   },
   "source": [
    "#### linear regression over missing values"
   ]
  },
  {
   "cell_type": "code",
   "execution_count": null,
   "id": "bd9aec4a",
   "metadata": {
    "pycharm": {
     "name": "#%%\n"
    }
   },
   "outputs": [],
   "source": [
    "def calculateMissingValues(start,end,missingValues=3):\n",
    "    stepwidth = (end- start) / (missingValues + 1)\n",
    "    calculatedValues= [start + i* stepwidth for i in range(1,missingValues+1)]\n",
    "    return calculatedValues"
   ]
  },
  {
   "cell_type": "code",
   "execution_count": null,
   "id": "6d48f9de",
   "metadata": {
    "pycharm": {
     "name": "#%%\n"
    }
   },
   "outputs": [],
   "source": [
    "def fillInValues(startValue,endValue, fillInValue):\n",
    "    return [fillInValue for i in range(endValue-startValue+1)]"
   ]
  },
  {
   "cell_type": "markdown",
   "id": "32f76dd3",
   "metadata": {
    "pycharm": {
     "name": "#%% md\n"
    }
   },
   "source": [
    "## pimp Bitcoin Data and create one file with all information"
   ]
  },
  {
   "cell_type": "code",
   "execution_count": null,
   "id": "4f19e579",
   "metadata": {
    "pycharm": {
     "name": "#%%\n"
    }
   },
   "outputs": [],
   "source": [
    "# 24H volume is not tracked at the beginning so it is set to zero\n",
    "for i in range(0,2):\n",
    "    df = btcData[i]\n",
    "    df['24H Volume'] = df['24H Volume'].fillna(0)\n",
    "    # delete those two columns beacuse they are always nan\n",
    "    #df.drop('Upper Bollinger Band', inplace=True, axis=1)\n",
    "    #df.drop('Lower Bollinger Band', inplace=True, axis=1)\n",
    "    # delete first 200 rows because ema200, sma200 is nan there\n",
    "    # and the first few days are completely unreliable\n",
    "    df.drop(df.index[0:200],inplace=True, axis=0)\n",
    "\n",
    "finalBtcData = btcData[0]\n",
    "for i in range(1,len(btcData)):\n",
    "    finalBtcData = pd.merge(finalBtcData, btcData[i], how=\"left\", on=\"time\")"
   ]
  },
  {
   "cell_type": "markdown",
   "id": "c8712f58",
   "metadata": {
    "pycharm": {
     "name": "#%% md\n"
    }
   },
   "source": [
    "### Jetzt sind die Daten konsistent aber es fehlten noch die 3 Einträge "
   ]
  },
  {
   "cell_type": "code",
   "execution_count": null,
   "id": "9e34de13",
   "metadata": {
    "pycharm": {
     "name": "#%%\n"
    }
   },
   "outputs": [],
   "source": [
    "checkMissingData(finalBtcData)\n",
    "\n",
    "#checkMissingData(df)   #this method has to be implemented new for dataframes instead of files \n",
    "#for start in startIndex:\n",
    "#    startValue = None\n",
    "    #calculateMissingValues(startValue,endValue,missingValues)"
   ]
  },
  {
   "cell_type": "markdown",
   "id": "c1b83f90",
   "metadata": {
    "pycharm": {
     "name": "#%% md\n"
    }
   },
   "source": [
    "#### insert missingData in btcData"
   ]
  },
  {
   "cell_type": "code",
   "execution_count": null,
   "id": "4a84cbe0",
   "metadata": {
    "pycharm": {
     "name": "#%%\n"
    }
   },
   "outputs": [],
   "source": [
    "insertion_point = 1007\n",
    "numberColumns = len(finalBtcData.columns)\n",
    "# go through columns\n",
    "fillInDataArray = [[0 for j in range(numberColumns)] for i in range(3)]\n",
    "for i in range(numberColumns):\n",
    "    valuesForColumn = calculateMissingValues(finalBtcData.iloc[:, i][1006], finalBtcData.iloc[:,i][1007],3)\n",
    "    for j in range(3):\n",
    "        fillInDataArray[j][i] = valuesForColumn[j]\n",
    "fillInDataArray = pd.DataFrame(np.array(fillInDataArray), columns= finalBtcData.columns)\n",
    "finalBtcData = pd.concat([finalBtcData.iloc[:insertion_point], fillInDataArray, finalBtcData.iloc[insertion_point:]]).reset_index(drop=True)\n",
    "\n",
    "fillInDataArray"
   ]
  },
  {
   "cell_type": "code",
   "execution_count": null,
   "id": "179edb99",
   "metadata": {
    "pycharm": {
     "name": "#%%\n"
    }
   },
   "outputs": [],
   "source": [
    "finalBtcData.info()"
   ]
  },
  {
   "cell_type": "code",
   "execution_count": null,
   "id": "51e99d93",
   "metadata": {
    "pycharm": {
     "name": "#%%\n"
    }
   },
   "outputs": [],
   "source": [
    "checkMissingData(finalBtcData, stepwidth=24*60*60, leaveFirstn=0)"
   ]
  },
  {
   "cell_type": "code",
   "execution_count": null,
   "id": "7faaafce",
   "metadata": {
    "scrolled": true,
    "pycharm": {
     "name": "#%%\n"
    }
   },
   "outputs": [],
   "source": [
    "#finalBtcData[\"date\"] = datetime.fromtimestamp(finalBtcData[\"time\"])\n",
    "finalBtcData[\"date\"] = [datetime.fromtimestamp(x) for x in finalBtcData[\"time\"]]\n",
    "finalBtcData[\"year\"] = [datetime.fromtimestamp(x).year for x in finalBtcData[\"time\"]]\n",
    "finalBtcData[\"month\"] = [datetime.fromtimestamp(x).month for x in finalBtcData[\"time\"]]\n",
    "finalBtcData[\"dayInMonth\"] = [datetime.fromtimestamp(x).day for x in finalBtcData[\"time\"]]\n",
    "finalBtcData[\"weekday\"] = [datetime.fromtimestamp(x).weekday() for x in finalBtcData[\"time\"]]\n",
    "finalBtcData.head()"
   ]
  },
  {
   "cell_type": "code",
   "execution_count": null,
   "id": "dfff3645",
   "metadata": {
    "pycharm": {
     "name": "#%%\n"
    }
   },
   "outputs": [],
   "source": [
    "finalBtcData.to_csv('btcAllData-inclusiveDate.csv',index=False)"
   ]
  },
  {
   "cell_type": "code",
   "execution_count": null,
   "id": "a66ba0a6",
   "metadata": {
    "pycharm": {
     "name": "#%%\n"
    }
   },
   "outputs": [],
   "source": []
  },
  {
   "cell_type": "markdown",
   "id": "c79a482e",
   "metadata": {
    "pycharm": {
     "name": "#%% md\n"
    }
   },
   "source": [
    "## Merge Btc and Eth"
   ]
  },
  {
   "cell_type": "code",
   "execution_count": null,
   "id": "7429c72c",
   "metadata": {
    "pycharm": {
     "name": "#%%\n"
    }
   },
   "outputs": [],
   "source": [
    "btcData = pd.read_csv(\"btcAllData-inclusiveDate-inclusiveHalving.csv\")\n",
    "ethData = pd.read_csv(\"daten/eth/BITSTAMP ETHUSD, 1D.csv\")\n",
    "finalBtcData = pd.merge(btcData, ethData, how=\"left\", on=\"time\")\n",
    "finalBtcData = finalBtcData.fillna(0)\n",
    "finalBtcData.head()\n",
    "finalBtcData.to_csv('btcAllData-inclusiveEth.csv',index=False)"
   ]
  },
  {
   "cell_type": "markdown",
   "id": "f28d0bab",
   "metadata": {
    "pycharm": {
     "name": "#%% md\n"
    }
   },
   "source": [
    "### merge btceth and restfiles"
   ]
  },
  {
   "cell_type": "code",
   "execution_count": 31,
   "id": "51c04110",
   "metadata": {
    "pycharm": {
     "name": "#%%\n"
    }
   },
   "outputs": [
    {
     "data": {
      "text/html": [
       "<div>\n",
       "<style scoped>\n",
       "    .dataframe tbody tr th:only-of-type {\n",
       "        vertical-align: middle;\n",
       "    }\n",
       "\n",
       "    .dataframe tbody tr th {\n",
       "        vertical-align: top;\n",
       "    }\n",
       "\n",
       "    .dataframe thead th {\n",
       "        text-align: right;\n",
       "    }\n",
       "</style>\n",
       "<table border=\"1\" class=\"dataframe\">\n",
       "  <thead>\n",
       "    <tr style=\"text-align: right;\">\n",
       "      <th></th>\n",
       "      <th>time</th>\n",
       "      <th>open_x</th>\n",
       "      <th>high_x</th>\n",
       "      <th>low_x</th>\n",
       "      <th>close_x</th>\n",
       "      <th>SMA20_x</th>\n",
       "      <th>SMA50_x</th>\n",
       "      <th>SMA100_x</th>\n",
       "      <th>SMA2000_x</th>\n",
       "      <th>Regression Line_x</th>\n",
       "      <th>...</th>\n",
       "      <th>TVC DXY, 1D low</th>\n",
       "      <th>TVC DXY, 1D close</th>\n",
       "      <th>TVC DXY, 1D EMA20</th>\n",
       "      <th>TVC DXY, 1D EMA50</th>\n",
       "      <th>TVC DXY, 1D EMA100</th>\n",
       "      <th>TVC DXY, 1D EMA200</th>\n",
       "      <th>TVC DXY, 1D SMA20</th>\n",
       "      <th>TVC DXY, 1D SMA50</th>\n",
       "      <th>TVC DXY, 1D SMA100</th>\n",
       "      <th>TVC DXY, 1D SMA2000</th>\n",
       "    </tr>\n",
       "  </thead>\n",
       "  <tbody>\n",
       "    <tr>\n",
       "      <th>0</th>\n",
       "      <td>1333497600</td>\n",
       "      <td>4.92</td>\n",
       "      <td>5.01</td>\n",
       "      <td>4.86</td>\n",
       "      <td>5.01</td>\n",
       "      <td>4.9310</td>\n",
       "      <td>4.8948</td>\n",
       "      <td>5.4069</td>\n",
       "      <td>4.98145</td>\n",
       "      <td>4.722802</td>\n",
       "      <td>...</td>\n",
       "      <td>79.386</td>\n",
       "      <td>79.740</td>\n",
       "      <td>79.371898</td>\n",
       "      <td>79.379826</td>\n",
       "      <td>79.063660</td>\n",
       "      <td>78.410082</td>\n",
       "      <td>79.54070</td>\n",
       "      <td>79.24766</td>\n",
       "      <td>79.51609</td>\n",
       "      <td>77.720130</td>\n",
       "    </tr>\n",
       "    <tr>\n",
       "      <th>1</th>\n",
       "      <td>1333584000</td>\n",
       "      <td>4.99</td>\n",
       "      <td>5.04</td>\n",
       "      <td>4.89</td>\n",
       "      <td>5.00</td>\n",
       "      <td>4.9180</td>\n",
       "      <td>4.9010</td>\n",
       "      <td>5.4140</td>\n",
       "      <td>4.94800</td>\n",
       "      <td>4.684430</td>\n",
       "      <td>...</td>\n",
       "      <td>79.623</td>\n",
       "      <td>80.050</td>\n",
       "      <td>79.436479</td>\n",
       "      <td>79.406107</td>\n",
       "      <td>79.083191</td>\n",
       "      <td>78.426400</td>\n",
       "      <td>79.58510</td>\n",
       "      <td>79.26072</td>\n",
       "      <td>79.53379</td>\n",
       "      <td>77.748485</td>\n",
       "    </tr>\n",
       "    <tr>\n",
       "      <th>2</th>\n",
       "      <td>1333670400</td>\n",
       "      <td>4.90</td>\n",
       "      <td>4.99</td>\n",
       "      <td>4.81</td>\n",
       "      <td>4.99</td>\n",
       "      <td>4.8965</td>\n",
       "      <td>4.9106</td>\n",
       "      <td>5.4209</td>\n",
       "      <td>4.91445</td>\n",
       "      <td>4.645442</td>\n",
       "      <td>...</td>\n",
       "      <td>79.736</td>\n",
       "      <td>79.886</td>\n",
       "      <td>79.479291</td>\n",
       "      <td>79.424926</td>\n",
       "      <td>79.099089</td>\n",
       "      <td>78.440923</td>\n",
       "      <td>79.57735</td>\n",
       "      <td>79.28040</td>\n",
       "      <td>79.55201</td>\n",
       "      <td>77.776425</td>\n",
       "    </tr>\n",
       "    <tr>\n",
       "      <th>3</th>\n",
       "      <td>1333756800</td>\n",
       "      <td>4.94</td>\n",
       "      <td>4.94</td>\n",
       "      <td>4.70</td>\n",
       "      <td>4.70</td>\n",
       "      <td>4.8690</td>\n",
       "      <td>4.9112</td>\n",
       "      <td>5.4229</td>\n",
       "      <td>4.87945</td>\n",
       "      <td>4.598616</td>\n",
       "      <td>...</td>\n",
       "      <td>79.736</td>\n",
       "      <td>79.886</td>\n",
       "      <td>79.479291</td>\n",
       "      <td>79.424926</td>\n",
       "      <td>79.099089</td>\n",
       "      <td>78.440923</td>\n",
       "      <td>79.57735</td>\n",
       "      <td>79.28040</td>\n",
       "      <td>79.55201</td>\n",
       "      <td>77.776425</td>\n",
       "    </tr>\n",
       "    <tr>\n",
       "      <th>4</th>\n",
       "      <td>1333843200</td>\n",
       "      <td>4.80</td>\n",
       "      <td>4.80</td>\n",
       "      <td>4.69</td>\n",
       "      <td>4.76</td>\n",
       "      <td>4.8655</td>\n",
       "      <td>4.9218</td>\n",
       "      <td>5.4284</td>\n",
       "      <td>4.84475</td>\n",
       "      <td>4.548236</td>\n",
       "      <td>...</td>\n",
       "      <td>79.652</td>\n",
       "      <td>79.795</td>\n",
       "      <td>79.509358</td>\n",
       "      <td>79.439439</td>\n",
       "      <td>79.112869</td>\n",
       "      <td>78.454397</td>\n",
       "      <td>79.57475</td>\n",
       "      <td>79.29362</td>\n",
       "      <td>79.56647</td>\n",
       "      <td>77.804180</td>\n",
       "    </tr>\n",
       "  </tbody>\n",
       "</table>\n",
       "<p>5 rows × 168 columns</p>\n",
       "</div>"
      ],
      "text/plain": [
       "         time  open_x  high_x  low_x  close_x  SMA20_x  SMA50_x  SMA100_x  \\\n",
       "0  1333497600    4.92    5.01   4.86     5.01   4.9310   4.8948    5.4069   \n",
       "1  1333584000    4.99    5.04   4.89     5.00   4.9180   4.9010    5.4140   \n",
       "2  1333670400    4.90    4.99   4.81     4.99   4.8965   4.9106    5.4209   \n",
       "3  1333756800    4.94    4.94   4.70     4.70   4.8690   4.9112    5.4229   \n",
       "4  1333843200    4.80    4.80   4.69     4.76   4.8655   4.9218    5.4284   \n",
       "\n",
       "   SMA2000_x  Regression Line_x  ...  TVC DXY, 1D low  TVC DXY, 1D close  \\\n",
       "0    4.98145           4.722802  ...           79.386             79.740   \n",
       "1    4.94800           4.684430  ...           79.623             80.050   \n",
       "2    4.91445           4.645442  ...           79.736             79.886   \n",
       "3    4.87945           4.598616  ...           79.736             79.886   \n",
       "4    4.84475           4.548236  ...           79.652             79.795   \n",
       "\n",
       "   TVC DXY, 1D EMA20  TVC DXY, 1D EMA50  TVC DXY, 1D EMA100  \\\n",
       "0          79.371898          79.379826           79.063660   \n",
       "1          79.436479          79.406107           79.083191   \n",
       "2          79.479291          79.424926           79.099089   \n",
       "3          79.479291          79.424926           79.099089   \n",
       "4          79.509358          79.439439           79.112869   \n",
       "\n",
       "   TVC DXY, 1D EMA200  TVC DXY, 1D SMA20  TVC DXY, 1D SMA50  \\\n",
       "0           78.410082           79.54070           79.24766   \n",
       "1           78.426400           79.58510           79.26072   \n",
       "2           78.440923           79.57735           79.28040   \n",
       "3           78.440923           79.57735           79.28040   \n",
       "4           78.454397           79.57475           79.29362   \n",
       "\n",
       "   TVC DXY, 1D SMA100  TVC DXY, 1D SMA2000  \n",
       "0            79.51609            77.720130  \n",
       "1            79.53379            77.748485  \n",
       "2            79.55201            77.776425  \n",
       "3            79.55201            77.776425  \n",
       "4            79.56647            77.804180  \n",
       "\n",
       "[5 rows x 168 columns]"
      ]
     },
     "execution_count": 31,
     "metadata": {},
     "output_type": "execute_result"
    }
   ],
   "source": [
    "import pandas as pd\n",
    "from datetime import datetime\n",
    "import numpy as np\n",
    "\n",
    "restFiles = [\n",
    "            \"NASDAQ_DLY NDX, 1D\",\n",
    "            \"OANDA XAUUSD, 1D\", \n",
    "            \"SP SPX, 1D\", \n",
    "            \"TVC DXY, 1D\"\n",
    "            ]\n",
    "restData = [pd.read_csv(\"daten/rest/\"+filename+\".csv\") for filename in restFiles]\n",
    "\n",
    "btcethdata = pd.read_csv(\"daten/btceth.csv\")\n",
    "                 \n",
    "\n",
    "# merge data\n",
    "# for each file\n",
    "for i in range(len(restData)):\n",
    "    restData[i][\"dateShort\"] = [datetime.fromtimestamp(x).date() for x in restData[i][\"time\"]]\n",
    "    del restData[i][\"time\"]\n",
    "    # for each columns\n",
    "    for j in range(len(restData[i].columns)):\n",
    "        # rename columns with filename included\n",
    "        if restData[i].columns.values[j] != \"dateShort\":\n",
    "            restData[i].columns.values[j] = (restFiles[i]+ \" \" + (restData[i].columns[j]))\n",
    "\n",
    "#merge all files together\n",
    "btcethdata[\"dateShort\"] = [datetime.fromtimestamp(x).date() for x in btcethdata[\"time\"]]\n",
    "finalBtcData = btcethdata\n",
    "for i in range(len(restData)):\n",
    "    finalBtcData = pd.merge(finalBtcData, restData[i], how=\"left\", on=\"dateShort\")\n",
    "finalBtcData.head()\n",
    "finalBtcData = finalBtcData.fillna(method='ffill')\n",
    "finalBtcData.to_csv(\"test2.csv\", index=False)\n",
    "finalBtcData.head()"
   ]
  },
  {
   "cell_type": "code",
   "execution_count": 25,
   "id": "856a72d6",
   "metadata": {
    "pycharm": {
     "name": "#%%\n"
    }
   },
   "outputs": [
    {
     "data": {
      "text/html": [
       "<div>\n",
       "<style scoped>\n",
       "    .dataframe tbody tr th:only-of-type {\n",
       "        vertical-align: middle;\n",
       "    }\n",
       "\n",
       "    .dataframe tbody tr th {\n",
       "        vertical-align: top;\n",
       "    }\n",
       "\n",
       "    .dataframe thead th {\n",
       "        text-align: right;\n",
       "    }\n",
       "</style>\n",
       "<table border=\"1\" class=\"dataframe\">\n",
       "  <thead>\n",
       "    <tr style=\"text-align: right;\">\n",
       "      <th></th>\n",
       "      <th>time</th>\n",
       "      <th>open</th>\n",
       "      <th>high</th>\n",
       "      <th>low</th>\n",
       "      <th>close</th>\n",
       "      <th>EMA20</th>\n",
       "      <th>EMA50</th>\n",
       "      <th>EMA100</th>\n",
       "      <th>EMA200</th>\n",
       "      <th>SMA20</th>\n",
       "      <th>SMA50</th>\n",
       "      <th>SMA100</th>\n",
       "      <th>SMA2000</th>\n",
       "    </tr>\n",
       "  </thead>\n",
       "  <tbody>\n",
       "    <tr>\n",
       "      <th>0</th>\n",
       "      <td>1294410600</td>\n",
       "      <td>2280.12988</td>\n",
       "      <td>2282.87012</td>\n",
       "      <td>2254.21997</td>\n",
       "      <td>2276.69995</td>\n",
       "      <td>2232.869701</td>\n",
       "      <td>2179.905564</td>\n",
       "      <td>2103.514096</td>\n",
       "      <td>2004.474299</td>\n",
       "      <td>2233.036499</td>\n",
       "      <td>2187.042207</td>\n",
       "      <td>2071.960108</td>\n",
       "      <td>1983.078022</td>\n",
       "    </tr>\n",
       "    <tr>\n",
       "      <th>1</th>\n",
       "      <td>1294669800</td>\n",
       "      <td>2270.64990</td>\n",
       "      <td>2288.63989</td>\n",
       "      <td>2265.00000</td>\n",
       "      <td>2284.37988</td>\n",
       "      <td>2237.775433</td>\n",
       "      <td>2184.002596</td>\n",
       "      <td>2107.095597</td>\n",
       "      <td>2007.259429</td>\n",
       "      <td>2236.488489</td>\n",
       "      <td>2190.135205</td>\n",
       "      <td>2076.295906</td>\n",
       "      <td>1984.736772</td>\n",
       "    </tr>\n",
       "    <tr>\n",
       "      <th>2</th>\n",
       "      <td>1294756200</td>\n",
       "      <td>2294.65991</td>\n",
       "      <td>2296.14990</td>\n",
       "      <td>2279.47998</td>\n",
       "      <td>2288.72998</td>\n",
       "      <td>2242.628247</td>\n",
       "      <td>2188.109552</td>\n",
       "      <td>2110.692317</td>\n",
       "      <td>2010.060131</td>\n",
       "      <td>2240.552490</td>\n",
       "      <td>2193.420806</td>\n",
       "      <td>2080.953206</td>\n",
       "      <td>1986.374322</td>\n",
       "    </tr>\n",
       "    <tr>\n",
       "      <th>3</th>\n",
       "      <td>1294842600</td>\n",
       "      <td>2298.62988</td>\n",
       "      <td>2304.87988</td>\n",
       "      <td>2289.05005</td>\n",
       "      <td>2304.87988</td>\n",
       "      <td>2248.556974</td>\n",
       "      <td>2192.688781</td>\n",
       "      <td>2114.537616</td>\n",
       "      <td>2012.993661</td>\n",
       "      <td>2245.166979</td>\n",
       "      <td>2196.950005</td>\n",
       "      <td>2085.744504</td>\n",
       "      <td>1988.058922</td>\n",
       "    </tr>\n",
       "    <tr>\n",
       "      <th>4</th>\n",
       "      <td>1294929000</td>\n",
       "      <td>2303.60010</td>\n",
       "      <td>2310.82007</td>\n",
       "      <td>2298.62012</td>\n",
       "      <td>2305.53003</td>\n",
       "      <td>2253.982979</td>\n",
       "      <td>2197.113928</td>\n",
       "      <td>2118.319644</td>\n",
       "      <td>2015.904471</td>\n",
       "      <td>2250.320983</td>\n",
       "      <td>2200.026206</td>\n",
       "      <td>2090.716704</td>\n",
       "      <td>1989.794873</td>\n",
       "    </tr>\n",
       "  </tbody>\n",
       "</table>\n",
       "</div>"
      ],
      "text/plain": [
       "         time        open        high         low       close        EMA20  \\\n",
       "0  1294410600  2280.12988  2282.87012  2254.21997  2276.69995  2232.869701   \n",
       "1  1294669800  2270.64990  2288.63989  2265.00000  2284.37988  2237.775433   \n",
       "2  1294756200  2294.65991  2296.14990  2279.47998  2288.72998  2242.628247   \n",
       "3  1294842600  2298.62988  2304.87988  2289.05005  2304.87988  2248.556974   \n",
       "4  1294929000  2303.60010  2310.82007  2298.62012  2305.53003  2253.982979   \n",
       "\n",
       "         EMA50       EMA100       EMA200        SMA20        SMA50  \\\n",
       "0  2179.905564  2103.514096  2004.474299  2233.036499  2187.042207   \n",
       "1  2184.002596  2107.095597  2007.259429  2236.488489  2190.135205   \n",
       "2  2188.109552  2110.692317  2010.060131  2240.552490  2193.420806   \n",
       "3  2192.688781  2114.537616  2012.993661  2245.166979  2196.950005   \n",
       "4  2197.113928  2118.319644  2015.904471  2250.320983  2200.026206   \n",
       "\n",
       "        SMA100      SMA2000  \n",
       "0  2071.960108  1983.078022  \n",
       "1  2076.295906  1984.736772  \n",
       "2  2080.953206  1986.374322  \n",
       "3  2085.744504  1988.058922  \n",
       "4  2090.716704  1989.794873  "
      ]
     },
     "execution_count": 25,
     "metadata": {},
     "output_type": "execute_result"
    }
   ],
   "source": [
    "import pandas as pd\n",
    "from datetime import datetime\n",
    "import numpy as np\n",
    "\n",
    "df = pd.read_csv(\"daten/rest/NASDAQ_DLY NDX, 1D.csv\")\n",
    "df = df.fillna(method='ffill')\n",
    "df.head()"
   ]
  },
  {
   "cell_type": "code",
   "execution_count": null,
   "id": "ca079725",
   "metadata": {
    "pycharm": {
     "name": "#%%\n"
    }
   },
   "outputs": [],
   "source": []
  }
 ],
 "metadata": {
  "kernelspec": {
   "display_name": "Python 3",
   "language": "python",
   "name": "python3"
  },
  "language_info": {
   "codemirror_mode": {
    "name": "ipython",
    "version": 3
   },
   "file_extension": ".py",
   "mimetype": "text/x-python",
   "name": "python",
   "nbconvert_exporter": "python",
   "pygments_lexer": "ipython3",
   "version": "3.8.10"
  }
 },
 "nbformat": 4,
 "nbformat_minor": 5
}