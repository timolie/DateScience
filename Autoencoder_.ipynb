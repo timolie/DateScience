{
 "cells": [
  {
   "cell_type": "code",
   "execution_count": 21,
   "metadata": {},
   "outputs": [],
   "source": [
    "import gzip\n",
    "import numpy as np\n",
    "from keras.utils import to_categorical\n",
    "\n",
    "def open_images(filename):\n",
    "    with gzip.open(filename, \"rb\") as file:\n",
    "        data = file.read()\n",
    "        return np.frombuffer(data, dtype=np.uint8, offset=16)\\\n",
    "            .reshape(-1, 28, 28)\\\n",
    "            .astype(np.float32)\n",
    "\n",
    "\n",
    "def open_labels(filename):\n",
    "    with gzip.open(filename, \"rb\") as file:\n",
    "        data = file.read()\n",
    "        return np.frombuffer(data, dtype=np.uint8, offset=8)\n",
    "    \n",
    "Y_train = open_images(\"../data/mnist/train-images-idx3-ubyte.gz\")\n",
    "Y_test = open_images(\"../data/mnist/t10k-images-idx3-ubyte.gz\")\n",
    "\n",
    "Y_train = Y_train / 255.\n",
    "Y_test = Y_test / 255."
   ]
  },
  {
   "cell_type": "code",
   "execution_count": 6,
   "metadata": {},
   "outputs": [],
   "source": [
    "from keras.models import Sequential\n",
    "from keras.layers import Conv2D, MaxPooling2D, UpSampling2D\n",
    "\n",
    "encoder = Sequential()\n",
    "encoder.add(Conv2D(1, kernel_size=(3, 3), padding=\"same\", activation=\"relu\", input_shape=(28, 28, 1)))\n",
    "encoder.add(MaxPooling2D(pool_size=(2, 2)))\n",
    "encoder.add(Conv2D(2, kernel_size=(3, 3), padding=\"same\", activation=\"relu\"))\n",
    "encoder.add(MaxPooling2D(pool_size=(2, 2)))\n",
    "\n",
    "decoder = Sequential()\n",
    "decoder.add(Conv2D(2, kernel_size=(3, 3), padding=\"same\", activation=\"relu\", input_shape=(7, 7, 2)))\n",
    "decoder.add(UpSampling2D(size=(2, 2)))\n",
    "decoder.add(Conv2D(4, kernel_size=(3, 3), padding=\"same\", activation=\"relu\"))\n",
    "decoder.add(UpSampling2D(size=(2, 2)))\n",
    "decoder.add(Conv2D(1, kernel_size=(3, 3), padding=\"same\", activation=\"sigmoid\"))\n",
    "\n",
    "model = Sequential()\n",
    "model.add(encoder)\n",
    "model.add(decoder)\n",
    "\n",
    "model.compile(optimizer=\"rmsprop\", loss=\"mse\")"
   ]
  },
  {
   "cell_type": "code",
   "execution_count": 22,
   "metadata": {},
   "outputs": [
    {
     "data": {
      "image/png": "[encoded data removed]",
      "text/plain": [
       "<Figure size 432x288 with 1 Axes>"
      ]
     },
     "metadata": {},
     "output_type": "display_data"
    }
   ],
   "source": [
    "%matplotlib inline\n",
    "\n",
    "import matplotlib.pyplot as plt\n",
    "\n",
    "plt.imshow(Y_train[0], cmap=\"gray_r\")\n",
    "plt.show()"
   ]
  },
  {
   "cell_type": "code",
   "execution_count": 23,
   "metadata": {},
   "outputs": [
    {
     "data": {
      "text/plain": [
       "<matplotlib.image.AxesImage at 0x7f364c44c748>"
      ]
     },
     "execution_count": 23,
     "metadata": {},
     "output_type": "execute_result"
    },
    {
     "data": {
      "image/png": "[encoded data removed]",
      "text/plain": [
       "<Figure size 432x288 with 1 Axes>"
      ]
     },
     "metadata": {},
     "output_type": "display_data"
    }
   ],
   "source": [
    "plt.imshow(Y_train[0] + np.random.normal(0, 0.2, (28, 28)), cmap=\"gray_r\")"
   ]
  },
  {
   "cell_type": "code",
   "execution_count": 24,
   "metadata": {},
   "outputs": [
    {
     "data": {
      "text/plain": [
       "(60000, 28, 28)"
      ]
     },
     "execution_count": 24,
     "metadata": {},
     "output_type": "execute_result"
    }
   ],
   "source": [
    "Y_train.shape"
   ]
  },
  {
   "cell_type": "code",
   "execution_count": 36,
   "metadata": {},
   "outputs": [],
   "source": [
    "X_train = Y_train + np.random.normal(0, 0.2, (60000, 28, 28))\n",
    "\n",
    "X_test = Y_test + np.random.normal(0, 0.2, (10000, 28, 28))"
   ]
  },
  {
   "cell_type": "code",
   "execution_count": 37,
   "metadata": {},
   "outputs": [
    {
     "name": "stdout",
     "output_type": "stream",
     "text": [
      "Epoch 1/10\n",
      "60000/60000 [==============================] - 10s 158us/step - loss: 0.0167\n",
      "Epoch 2/10\n",
      "60000/60000 [==============================] - 10s 159us/step - loss: 0.0160\n",
      "Epoch 3/10\n",
      "60000/60000 [==============================] - 10s 164us/step - loss: 0.0158\n",
      "Epoch 4/10\n",
      "60000/60000 [==============================] - 9s 158us/step - loss: 0.0156\n",
      "Epoch 5/10\n",
      "60000/60000 [==============================] - 9s 158us/step - loss: 0.0156\n",
      "Epoch 6/10\n",
      "60000/60000 [==============================] - 9s 158us/step - loss: 0.0155\n",
      "Epoch 7/10\n",
      "60000/60000 [==============================] - 10s 159us/step - loss: 0.0155\n",
      "Epoch 8/10\n",
      "60000/60000 [==============================] - 10s 158us/step - loss: 0.0154\n",
      "Epoch 9/10\n",
      "60000/60000 [==============================] - 9s 158us/step - loss: 0.0154\n",
      "Epoch 10/10\n",
      "60000/60000 [==============================] - 9s 158us/step - loss: 0.0154\n"
     ]
    },
    {
     "data": {
      "text/plain": [
       "<keras.callbacks.History at 0x7f36571c9f60>"
      ]
     },
     "execution_count": 37,
     "metadata": {},
     "output_type": "execute_result"
    }
   ],
   "source": [
    "model.fit(X_train.reshape(-1, 28, 28, 1), Y_train.reshape(-1, 28, 28, 1), epochs=10, batch_size=32)"
   ]
  },
  {
   "cell_type": "code",
   "execution_count": 38,
   "metadata": {},
   "outputs": [],
   "source": [
    "Y_test_pred = model.predict(X_test.reshape(-1, 28, 28, 1))"
   ]
  },
  {
   "cell_type": "code",
   "execution_count": 39,
   "metadata": {},
   "outputs": [
    {
     "data": {
      "image/png": "[encoded data removed]",
      "text/plain": [
       "<Figure size 432x288 with 1 Axes>"
      ]
     },
     "metadata": {},
     "output_type": "display_data"
    }
   ],
   "source": [
    "plt.imshow(Y_test_pred[0].reshape(28, 28), cmap=\"gray_r\")\n",
    "plt.show()"
   ]
  },
  {
   "cell_type": "code",
   "execution_count": 40,
   "metadata": {},
   "outputs": [
    {
     "data": {
      "image/png": "[encoded data removed]",
      "text/plain": [
       "<Figure size 432x288 with 1 Axes>"
      ]
     },
     "metadata": {},
     "output_type": "display_data"
    }
   ],
   "source": [
    "plt.imshow(X_test[0].reshape(28, 28), cmap=\"gray_r\")\n",
    "plt.show()"
   ]
  },
  {
   "cell_type": "code",
   "execution_count": null,
   "metadata": {},
   "outputs": [],
   "source": []
  },
  {
   "cell_type": "code",
   "execution_count": null,
   "metadata": {},
   "outputs": [],
   "source": []
  }
 ],
 "metadata": {
  "kernelspec": {
   "display_name": "Python 3",
   "language": "python",
   "name": "python3"
  },
  "language_info": {
   "codemirror_mode": {
    "name": "ipython",
    "version": 3
   },
   "file_extension": ".py",
   "mimetype": "text/x-python",
   "name": "python",
   "nbconvert_exporter": "python",
   "pygments_lexer": "ipython3",
   "version": "3.6.5"
  }
 },
 "nbformat": 4,
 "nbformat_minor": 2
}
